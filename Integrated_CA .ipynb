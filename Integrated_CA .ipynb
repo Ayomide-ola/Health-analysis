{
 "cells": [
  {
   "cell_type": "markdown",
   "id": "f9429ed3",
   "metadata": {},
   "source": [
    "## Refrences\n",
    "1. Linda, T. (2021). What Is Machine Learning and Why Is It Important? [online] SearchEnterpriseAI. Available at: https://www.techtarget.com/searchenterpriseai/definition/machine-learning-ML [Accessed 1 Dec. 2023].\n",
    "2. Hector Cuesta (2013) Practical Data Analysis. Birmingham, UK: Packt Publishing. Available at: https://search.ebscohost.com/login.aspx?direct=true&db=e250xww&AN=654543&site=eds-live&scope=site (Accessed: 18 October 2023)"
   ]
  },
  {
   "cell_type": "markdown",
   "id": "ef23447a",
   "metadata": {},
   "source": [
    "# 1 : Introduction \n",
    "### 1.1 What is data\n",
    "Data is plain facts gathered within a defined context. Statistians would refer to it as a set of obsevations, which contain variables or columns of varying/unique characteristics. Data can also be referred to as a piece of information after it has been summarised, and when subjected to analysis, data can be referred to as evidence of a hypothesis. Before data can become information and utilmately evidence it must go through a process. Data analysis is the process in which raw data is ordered and organized, to be used in methods that help to explain the past and predict the future (Hector, 2013). \n",
    "Data analysis been a a scientific process, there are no necessarily any methodology to come to a conclusion on every task, however as a general rule, in other to aciheve a quality result in any analysis the data used must be processed before it is used to make predictions using machine learning models. This project is an integrated project of both data preparation and machine learning modelling. \n",
    "\n",
    "### 1.2 Data preparation\n",
    "Data preparation also known as data preprocessing in a crucial step for a reliable data analysis and modelling results. This process involves early data analysis (EDA), data cleaning, transformation, handling imbalanced data, feature engineering, handling imbalanced data, visualisation, and feature selection. DP takes over 80% of data analysis and modelling process because if we put ill-prepared data into our machine learning model, we would get bad results, hence having through DP is imperative to getting a reliable predition from data. \n",
    "### 1.2.1 Machine learning\n",
    "Machine learning (ML) is a branch of artificial intelligence (AI) that focuses on building computer systems that learn from data (Linda, 2021). Machine learning algorithms are trained to find relationships and patterns in data (Linda, 2021). Though diffrent ML algarithms work in diffrent ways, their ultimate goal is to make predictions about the the future of a particular data context by learning the pattern in the present availble data. The qaulity and relaibility of the predictions made is dependent on the quality of the data used to train the ML algarithms. \n",
    "\n",
    "### 1.3 undertsanding dataset and source\n",
    "Dsiclaimer: This is the data summary provided in CA overveiw. \n",
    "The NHANES dataset was created to assess the health and nutritional status of adults and children in the\n",
    "United States. This dataset is funded by the Centers for Disease Control and Prevention (CDC), specifically\n",
    "through its National Center for Health Statistics (NCHS). The data is based on the survey respondents\n",
    "throughout the United States. Data was gathered through interviews, physical examinations, and laboratory\n",
    "tests. For this subset respondents 65 years old and older were labeled as “senior” and all individuals under\n",
    "65 years old as “non-senior.”\n",
    "\n",
    "### 1.4 Objectives\n",
    "1. Set up github account to tract project implementation \n",
    "2. Download and load 'NHANES_age_prediction.csv' load Jupyternotebook in pandas datafram form to allow data manupulation\n",
    "3. Import appropraite laibraries needed for data manipulation\n",
    "4. Perform indepth early data analysis\n",
    "5. Perform data cleaning \n",
    "6. Apply encoding, scaling and feature engineering as required\n",
    "7. Employ both LDA (Linear Discriminant Analysis) and PCA (Principal Component Analysis) and compare the separation of classes through visiualization\n",
    "8. Explain in my own words the diffrence between LDA and PCA in relation to my analyis result.\n",
    "9. With pattern, apply appropriate Machine learning models to dataset to make furture predictions and justify choices.\n",
    "10. Train and test the ML models with different splits/ with appropriate metrics for unsupervised learning and cross validate with K-fold cross-validation\n",
    "11. Compare similarities and contrast in ML modelling outcomes. "
   ]
  },
  {
   "cell_type": "code",
   "execution_count": null,
   "id": "f4efa1ac",
   "metadata": {},
   "outputs": [],
   "source": []
  }
 ],
 "metadata": {
  "kernelspec": {
   "display_name": "Python 3 (ipykernel)",
   "language": "python",
   "name": "python3"
  },
  "language_info": {
   "codemirror_mode": {
    "name": "ipython",
    "version": 3
   },
   "file_extension": ".py",
   "mimetype": "text/x-python",
   "name": "python",
   "nbconvert_exporter": "python",
   "pygments_lexer": "ipython3",
   "version": "3.11.4"
  }
 },
 "nbformat": 4,
 "nbformat_minor": 5
}
