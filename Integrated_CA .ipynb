{
 "cells": [
  {
   "cell_type": "markdown",
   "id": "a3f16761",
   "metadata": {},
   "source": [
    "## Refrences\n",
    "1. Linda, T. (2021). What Is Machine Learning and Why Is It Important? [online] SearchEnterpriseAI. Available at: https://www.techtarget.com/searchenterpriseai/definition/machine-learning-ML [Accessed 1 Dec. 2023].\n",
    "2. Hector Cuesta (2013) Practical Data Analysis. Birmingham, UK: Packt Publishing. Available at: https://search.ebscohost.com/login.aspx?direct=true&db=e250xww&AN=654543&site=eds-live&scope=site (Accessed: 18 October 2023)"
   ]
  },
  {
   "cell_type": "markdown",
   "id": "1eb99d17",
   "metadata": {},
   "source": [
    "# 1 : Introduction \n",
    "### 1.1 What is data\n",
    "Data is plain facts gathered within a defined context. Statistians would refer to it as a set of obsevations, which contain variables or columns of varying/unique characteristics. Data can also be referred to as a piece of information after it has been summarised, and when subjected to analysis, data can be referred to as evidence of a hypothesis. Before data can become information and utilmately evidence it must go through a process. Data analysis is the process in which raw data is ordered and organized, to be used in methods that help to explain the past and predict the future (Hector, 2013). \n",
    "Data analysis been a a scientific process, there are no necessarily any methodology to come to a conclusion on every task, however as a general rule, in other to aciheve a quality result in any analysis the data used must be processed before it is used to make predictions using machine learning models. This project is an integrated project of both data preparation and machine learning modelling. \n",
    "\n",
    "### 1.2 Data preparation\n",
    "Data preparation also known as data preprocessing in a crucial step for a reliable data analysis and modelling results. This process involves early data analysis (EDA), data cleaning, transformation, handling imbalanced data, feature engineering, handling imbalanced data, visualisation, and feature selection. DP takes over 80% of data analysis and modelling process because if we put ill-prepared data into our machine learning model, we would get bad results, hence having through DP is imperative to getting a reliable predition from data. \n",
    "### 1.2.1 Machine learning\n",
    "Machine learning (ML) is a branch of artificial intelligence (AI) that focuses on building computer systems that learn from data (Linda, 2021). Machine learning algorithms are trained to find relationships and patterns in data (Linda, 2021). Though diffrent ML algarithms work in diffrent ways, their ultimate goal is to make predictions about the the future of a particular data context by learning the pattern in the present availble data. The qaulity and relaibility of the predictions made is dependent on the quality of the data used to train the ML algarithms. \n",
    "\n",
    "### 1.3 undertsanding dataset and source\n",
    "Dsiclaimer: This is the data summary provided in CA overveiw. \n",
    "The NHANES dataset was created to assess the health and nutritional status of adults and children in the\n",
    "United States. This dataset is funded by the Centers for Disease Control and Prevention (CDC), specifically\n",
    "through its National Center for Health Statistics (NCHS). The data is based on the survey respondents\n",
    "throughout the United States. Data was gathered through interviews, physical examinations, and laboratory\n",
    "tests. For this subset respondents 65 years old and older were labeled as “senior” and all individuals under\n",
    "65 years old as “non-senior.”\n",
    "\n",
    "### 1.4 Objectives\n",
    "1. Set up github account to tract project implementation \n",
    "2. Download and load 'NHANES_age_prediction.csv' load Jupyternotebook in pandas datafram form to allow data manupulation\n",
    "3. Import appropraite laibraries needed for data manipulation\n",
    "4. Perform indepth early data analysis\n",
    "5. Perform data cleaning \n",
    "6. Apply encoding, scaling and feature engineering as required\n",
    "7. Employ both LDA (Linear Discriminant Analysis) and PCA (Principal Component Analysis) and compare the separation of classes through visiualization\n",
    "8. Explain in my own words the diffrence between LDA and PCA in relation to my analyis result.\n",
    "9. With pattern, apply appropriate Machine learning models to dataset to make furture predictions and justify choices.\n",
    "10. Train and test the ML models with different splits/ with appropriate metrics for unsupervised learning and cross validate with K-fold cross-validation\n",
    "11. Compare similarities and contrast in ML modelling outcomes. "
   ]
  },
  {
   "cell_type": "code",
   "execution_count": 1,
   "id": "e4653f77",
   "metadata": {},
   "outputs": [],
   "source": [
    "#Importing packages i need for EDA\n",
    "import pandas as pd\n",
    "import numpy as np\n",
    "import matplotlib.pyplot as plt\n",
    "import seaborn as sns"
   ]
  },
  {
   "cell_type": "markdown",
   "id": "98712104",
   "metadata": {},
   "source": [
    "## Loading dataset"
   ]
  },
  {
   "cell_type": "code",
   "execution_count": 2,
   "id": "036c5133",
   "metadata": {},
   "outputs": [],
   "source": [
    "df= pd.read_csv(\"NHANES_age_prediction.csv\")"
   ]
  },
  {
   "cell_type": "markdown",
   "id": "8d3cda3f",
   "metadata": {},
   "source": [
    "### loading data \n",
    "Pandas(pd) has been used in the first line of code to load the 'NHANES_age_prediction.csv' into a dataframe. A dataframe is a tabular form, column-oriented data structre. It contains both rows and columns (McKenny, 2017). The columns in a data frame have corresponding names called feautures/ variables and the rows are the observation of each feature. Pandas dataframe makes working with the datas in 'NHANES_age_prediction.csv' dataset easy, fast and it also enables the manipulation of this data. \n",
    "\n",
    "***Eplaining code:*** 'read_csv' funtion from the pandas library was called and the name of the data file was passed as an argument in parentesis and the resulting dataframe is named df. The read_csv has been used because the project dataset is in csv format, and naming the resulting dataframe enhances manipulationn of dataframe during project implementation."
   ]
  },
  {
   "cell_type": "code",
   "execution_count": 6,
   "id": "d8ce9403",
   "metadata": {},
   "outputs": [
    {
     "data": {
      "text/html": [
       "<div>\n",
       "<style scoped>\n",
       "    .dataframe tbody tr th:only-of-type {\n",
       "        vertical-align: middle;\n",
       "    }\n",
       "\n",
       "    .dataframe tbody tr th {\n",
       "        vertical-align: top;\n",
       "    }\n",
       "\n",
       "    .dataframe thead th {\n",
       "        text-align: right;\n",
       "    }\n",
       "</style>\n",
       "<table border=\"1\" class=\"dataframe\">\n",
       "  <thead>\n",
       "    <tr style=\"text-align: right;\">\n",
       "      <th></th>\n",
       "      <th>SEQN</th>\n",
       "      <th>age_group</th>\n",
       "      <th>RIDAGEYR</th>\n",
       "      <th>RIAGENDR</th>\n",
       "      <th>PAQ605</th>\n",
       "      <th>BMXBMI</th>\n",
       "      <th>LBXGLU</th>\n",
       "      <th>DIQ010</th>\n",
       "      <th>LBXGLT</th>\n",
       "      <th>LBXIN</th>\n",
       "    </tr>\n",
       "  </thead>\n",
       "  <tbody>\n",
       "    <tr>\n",
       "      <th>0</th>\n",
       "      <td>73564.0</td>\n",
       "      <td>Adult</td>\n",
       "      <td>61.0</td>\n",
       "      <td>2.0</td>\n",
       "      <td>2.0</td>\n",
       "      <td>35.7</td>\n",
       "      <td>110.0</td>\n",
       "      <td>2.0</td>\n",
       "      <td>150.0</td>\n",
       "      <td>14.91</td>\n",
       "    </tr>\n",
       "    <tr>\n",
       "      <th>1</th>\n",
       "      <td>73568.0</td>\n",
       "      <td>Adult</td>\n",
       "      <td>26.0</td>\n",
       "      <td>2.0</td>\n",
       "      <td>2.0</td>\n",
       "      <td>20.3</td>\n",
       "      <td>89.0</td>\n",
       "      <td>2.0</td>\n",
       "      <td>80.0</td>\n",
       "      <td>3.85</td>\n",
       "    </tr>\n",
       "    <tr>\n",
       "      <th>2</th>\n",
       "      <td>73576.0</td>\n",
       "      <td>Adult</td>\n",
       "      <td>16.0</td>\n",
       "      <td>1.0</td>\n",
       "      <td>2.0</td>\n",
       "      <td>23.2</td>\n",
       "      <td>89.0</td>\n",
       "      <td>2.0</td>\n",
       "      <td>68.0</td>\n",
       "      <td>6.14</td>\n",
       "    </tr>\n",
       "    <tr>\n",
       "      <th>3</th>\n",
       "      <td>73577.0</td>\n",
       "      <td>Adult</td>\n",
       "      <td>32.0</td>\n",
       "      <td>1.0</td>\n",
       "      <td>2.0</td>\n",
       "      <td>28.9</td>\n",
       "      <td>104.0</td>\n",
       "      <td>2.0</td>\n",
       "      <td>84.0</td>\n",
       "      <td>16.15</td>\n",
       "    </tr>\n",
       "    <tr>\n",
       "      <th>4</th>\n",
       "      <td>73580.0</td>\n",
       "      <td>Adult</td>\n",
       "      <td>38.0</td>\n",
       "      <td>2.0</td>\n",
       "      <td>1.0</td>\n",
       "      <td>35.9</td>\n",
       "      <td>103.0</td>\n",
       "      <td>2.0</td>\n",
       "      <td>81.0</td>\n",
       "      <td>10.92</td>\n",
       "    </tr>\n",
       "  </tbody>\n",
       "</table>\n",
       "</div>"
      ],
      "text/plain": [
       "      SEQN age_group  RIDAGEYR  RIAGENDR  PAQ605  BMXBMI  LBXGLU  DIQ010  \\\n",
       "0  73564.0     Adult      61.0       2.0     2.0    35.7   110.0     2.0   \n",
       "1  73568.0     Adult      26.0       2.0     2.0    20.3    89.0     2.0   \n",
       "2  73576.0     Adult      16.0       1.0     2.0    23.2    89.0     2.0   \n",
       "3  73577.0     Adult      32.0       1.0     2.0    28.9   104.0     2.0   \n",
       "4  73580.0     Adult      38.0       2.0     1.0    35.9   103.0     2.0   \n",
       "\n",
       "   LBXGLT  LBXIN  \n",
       "0   150.0  14.91  \n",
       "1    80.0   3.85  \n",
       "2    68.0   6.14  \n",
       "3    84.0  16.15  \n",
       "4    81.0  10.92  "
      ]
     },
     "execution_count": 6,
     "metadata": {},
     "output_type": "execute_result"
    }
   ],
   "source": [
    "#Displaying the first five rows of df\n",
    "df.head()"
   ]
  },
  {
   "cell_type": "code",
   "execution_count": 15,
   "id": "75b674ef",
   "metadata": {},
   "outputs": [
    {
     "data": {
      "text/html": [
       "<div>\n",
       "<style scoped>\n",
       "    .dataframe tbody tr th:only-of-type {\n",
       "        vertical-align: middle;\n",
       "    }\n",
       "\n",
       "    .dataframe tbody tr th {\n",
       "        vertical-align: top;\n",
       "    }\n",
       "\n",
       "    .dataframe thead th {\n",
       "        text-align: right;\n",
       "    }\n",
       "</style>\n",
       "<table border=\"1\" class=\"dataframe\">\n",
       "  <thead>\n",
       "    <tr style=\"text-align: right;\">\n",
       "      <th></th>\n",
       "      <th>SEQN</th>\n",
       "      <th>age_group</th>\n",
       "      <th>RIDAGEYR</th>\n",
       "      <th>RIAGENDR</th>\n",
       "      <th>PAQ605</th>\n",
       "      <th>BMXBMI</th>\n",
       "      <th>LBXGLU</th>\n",
       "      <th>DIQ010</th>\n",
       "      <th>LBXGLT</th>\n",
       "      <th>LBXIN</th>\n",
       "    </tr>\n",
       "  </thead>\n",
       "  <tbody>\n",
       "    <tr>\n",
       "      <th>2273</th>\n",
       "      <td>83711.0</td>\n",
       "      <td>Adult</td>\n",
       "      <td>38.0</td>\n",
       "      <td>2.0</td>\n",
       "      <td>2.0</td>\n",
       "      <td>33.5</td>\n",
       "      <td>100.0</td>\n",
       "      <td>2.0</td>\n",
       "      <td>73.0</td>\n",
       "      <td>6.53</td>\n",
       "    </tr>\n",
       "    <tr>\n",
       "      <th>2274</th>\n",
       "      <td>83712.0</td>\n",
       "      <td>Adult</td>\n",
       "      <td>61.0</td>\n",
       "      <td>1.0</td>\n",
       "      <td>2.0</td>\n",
       "      <td>30.0</td>\n",
       "      <td>93.0</td>\n",
       "      <td>2.0</td>\n",
       "      <td>208.0</td>\n",
       "      <td>13.02</td>\n",
       "    </tr>\n",
       "    <tr>\n",
       "      <th>2275</th>\n",
       "      <td>83713.0</td>\n",
       "      <td>Adult</td>\n",
       "      <td>34.0</td>\n",
       "      <td>1.0</td>\n",
       "      <td>2.0</td>\n",
       "      <td>23.7</td>\n",
       "      <td>103.0</td>\n",
       "      <td>2.0</td>\n",
       "      <td>124.0</td>\n",
       "      <td>21.41</td>\n",
       "    </tr>\n",
       "    <tr>\n",
       "      <th>2276</th>\n",
       "      <td>83718.0</td>\n",
       "      <td>Adult</td>\n",
       "      <td>60.0</td>\n",
       "      <td>2.0</td>\n",
       "      <td>2.0</td>\n",
       "      <td>27.4</td>\n",
       "      <td>90.0</td>\n",
       "      <td>2.0</td>\n",
       "      <td>108.0</td>\n",
       "      <td>4.99</td>\n",
       "    </tr>\n",
       "    <tr>\n",
       "      <th>2277</th>\n",
       "      <td>83727.0</td>\n",
       "      <td>Adult</td>\n",
       "      <td>26.0</td>\n",
       "      <td>1.0</td>\n",
       "      <td>2.0</td>\n",
       "      <td>24.5</td>\n",
       "      <td>108.0</td>\n",
       "      <td>2.0</td>\n",
       "      <td>108.0</td>\n",
       "      <td>3.76</td>\n",
       "    </tr>\n",
       "  </tbody>\n",
       "</table>\n",
       "</div>"
      ],
      "text/plain": [
       "         SEQN age_group  RIDAGEYR  RIAGENDR  PAQ605  BMXBMI  LBXGLU  DIQ010  \\\n",
       "2273  83711.0     Adult      38.0       2.0     2.0    33.5   100.0     2.0   \n",
       "2274  83712.0     Adult      61.0       1.0     2.0    30.0    93.0     2.0   \n",
       "2275  83713.0     Adult      34.0       1.0     2.0    23.7   103.0     2.0   \n",
       "2276  83718.0     Adult      60.0       2.0     2.0    27.4    90.0     2.0   \n",
       "2277  83727.0     Adult      26.0       1.0     2.0    24.5   108.0     2.0   \n",
       "\n",
       "      LBXGLT  LBXIN  \n",
       "2273    73.0   6.53  \n",
       "2274   208.0  13.02  \n",
       "2275   124.0  21.41  \n",
       "2276   108.0   4.99  \n",
       "2277   108.0   3.76  "
      ]
     },
     "execution_count": 15,
     "metadata": {},
     "output_type": "execute_result"
    }
   ],
   "source": [
    "#Displaying the last five rows of df\n",
    "df.tail()"
   ]
  },
  {
   "cell_type": "code",
   "execution_count": 5,
   "id": "194c25de",
   "metadata": {},
   "outputs": [
    {
     "data": {
      "text/plain": [
       "(2278, 10)"
      ]
     },
     "execution_count": 5,
     "metadata": {},
     "output_type": "execute_result"
    }
   ],
   "source": [
    "# checking size of df\n",
    "df.shape"
   ]
  },
  {
   "cell_type": "code",
   "execution_count": 10,
   "id": "53644ff7",
   "metadata": {},
   "outputs": [
    {
     "data": {
      "text/plain": [
       "SEQN         float64\n",
       "age_group     object\n",
       "RIDAGEYR     float64\n",
       "RIAGENDR     float64\n",
       "PAQ605       float64\n",
       "BMXBMI       float64\n",
       "LBXGLU       float64\n",
       "DIQ010       float64\n",
       "LBXGLT       float64\n",
       "LBXIN        float64\n",
       "dtype: object"
      ]
     },
     "execution_count": 10,
     "metadata": {},
     "output_type": "execute_result"
    }
   ],
   "source": [
    "df.dtypes"
   ]
  },
  {
   "cell_type": "code",
   "execution_count": 12,
   "id": "b53f91f0",
   "metadata": {},
   "outputs": [
    {
     "name": "stdout",
     "output_type": "stream",
     "text": [
      "<class 'pandas.core.frame.DataFrame'>\n",
      "RangeIndex: 2278 entries, 0 to 2277\n",
      "Data columns (total 10 columns):\n",
      " #   Column     Non-Null Count  Dtype  \n",
      "---  ------     --------------  -----  \n",
      " 0   SEQN       2278 non-null   float64\n",
      " 1   age_group  2278 non-null   object \n",
      " 2   RIDAGEYR   2278 non-null   float64\n",
      " 3   RIAGENDR   2278 non-null   float64\n",
      " 4   PAQ605     2278 non-null   float64\n",
      " 5   BMXBMI     2278 non-null   float64\n",
      " 6   LBXGLU     2278 non-null   float64\n",
      " 7   DIQ010     2278 non-null   float64\n",
      " 8   LBXGLT     2278 non-null   float64\n",
      " 9   LBXIN      2278 non-null   float64\n",
      "dtypes: float64(9), object(1)\n",
      "memory usage: 178.1+ KB\n"
     ]
    }
   ],
   "source": [
    "df.info()"
   ]
  },
  {
   "cell_type": "markdown",
   "id": "30783ce0",
   "metadata": {},
   "source": [
    "# Note:\n",
    "## Describe before cleaning and after to compare the difference"
   ]
  },
  {
   "cell_type": "code",
   "execution_count": 13,
   "id": "3846ae06",
   "metadata": {},
   "outputs": [
    {
     "data": {
      "text/html": [
       "<div>\n",
       "<style scoped>\n",
       "    .dataframe tbody tr th:only-of-type {\n",
       "        vertical-align: middle;\n",
       "    }\n",
       "\n",
       "    .dataframe tbody tr th {\n",
       "        vertical-align: top;\n",
       "    }\n",
       "\n",
       "    .dataframe thead th {\n",
       "        text-align: right;\n",
       "    }\n",
       "</style>\n",
       "<table border=\"1\" class=\"dataframe\">\n",
       "  <thead>\n",
       "    <tr style=\"text-align: right;\">\n",
       "      <th></th>\n",
       "      <th>SEQN</th>\n",
       "      <th>RIDAGEYR</th>\n",
       "      <th>RIAGENDR</th>\n",
       "      <th>PAQ605</th>\n",
       "      <th>BMXBMI</th>\n",
       "      <th>LBXGLU</th>\n",
       "      <th>DIQ010</th>\n",
       "      <th>LBXGLT</th>\n",
       "      <th>LBXIN</th>\n",
       "    </tr>\n",
       "  </thead>\n",
       "  <tbody>\n",
       "    <tr>\n",
       "      <th>count</th>\n",
       "      <td>2278.000000</td>\n",
       "      <td>2278.000000</td>\n",
       "      <td>2278.000000</td>\n",
       "      <td>2278.000000</td>\n",
       "      <td>2278.000000</td>\n",
       "      <td>2278.000000</td>\n",
       "      <td>2278.000000</td>\n",
       "      <td>2278.000000</td>\n",
       "      <td>2278.000000</td>\n",
       "    </tr>\n",
       "    <tr>\n",
       "      <th>mean</th>\n",
       "      <td>78691.853819</td>\n",
       "      <td>41.795874</td>\n",
       "      <td>1.511414</td>\n",
       "      <td>1.822651</td>\n",
       "      <td>27.955180</td>\n",
       "      <td>99.553117</td>\n",
       "      <td>2.016242</td>\n",
       "      <td>114.978929</td>\n",
       "      <td>11.834794</td>\n",
       "    </tr>\n",
       "    <tr>\n",
       "      <th>std</th>\n",
       "      <td>2921.365151</td>\n",
       "      <td>20.156111</td>\n",
       "      <td>0.499979</td>\n",
       "      <td>0.398918</td>\n",
       "      <td>7.248962</td>\n",
       "      <td>17.889834</td>\n",
       "      <td>0.185556</td>\n",
       "      <td>47.061239</td>\n",
       "      <td>9.718812</td>\n",
       "    </tr>\n",
       "    <tr>\n",
       "      <th>min</th>\n",
       "      <td>73564.000000</td>\n",
       "      <td>12.000000</td>\n",
       "      <td>1.000000</td>\n",
       "      <td>1.000000</td>\n",
       "      <td>14.500000</td>\n",
       "      <td>63.000000</td>\n",
       "      <td>1.000000</td>\n",
       "      <td>40.000000</td>\n",
       "      <td>0.140000</td>\n",
       "    </tr>\n",
       "    <tr>\n",
       "      <th>25%</th>\n",
       "      <td>76171.750000</td>\n",
       "      <td>24.000000</td>\n",
       "      <td>1.000000</td>\n",
       "      <td>2.000000</td>\n",
       "      <td>22.800000</td>\n",
       "      <td>91.000000</td>\n",
       "      <td>2.000000</td>\n",
       "      <td>87.000000</td>\n",
       "      <td>5.860000</td>\n",
       "    </tr>\n",
       "    <tr>\n",
       "      <th>50%</th>\n",
       "      <td>78749.000000</td>\n",
       "      <td>41.000000</td>\n",
       "      <td>2.000000</td>\n",
       "      <td>2.000000</td>\n",
       "      <td>26.800000</td>\n",
       "      <td>97.000000</td>\n",
       "      <td>2.000000</td>\n",
       "      <td>105.000000</td>\n",
       "      <td>9.040000</td>\n",
       "    </tr>\n",
       "    <tr>\n",
       "      <th>75%</th>\n",
       "      <td>81213.500000</td>\n",
       "      <td>58.000000</td>\n",
       "      <td>2.000000</td>\n",
       "      <td>2.000000</td>\n",
       "      <td>31.200000</td>\n",
       "      <td>104.000000</td>\n",
       "      <td>2.000000</td>\n",
       "      <td>130.000000</td>\n",
       "      <td>14.440000</td>\n",
       "    </tr>\n",
       "    <tr>\n",
       "      <th>max</th>\n",
       "      <td>83727.000000</td>\n",
       "      <td>80.000000</td>\n",
       "      <td>2.000000</td>\n",
       "      <td>7.000000</td>\n",
       "      <td>70.100000</td>\n",
       "      <td>405.000000</td>\n",
       "      <td>3.000000</td>\n",
       "      <td>604.000000</td>\n",
       "      <td>102.290000</td>\n",
       "    </tr>\n",
       "  </tbody>\n",
       "</table>\n",
       "</div>"
      ],
      "text/plain": [
       "               SEQN     RIDAGEYR     RIAGENDR       PAQ605       BMXBMI  \\\n",
       "count   2278.000000  2278.000000  2278.000000  2278.000000  2278.000000   \n",
       "mean   78691.853819    41.795874     1.511414     1.822651    27.955180   \n",
       "std     2921.365151    20.156111     0.499979     0.398918     7.248962   \n",
       "min    73564.000000    12.000000     1.000000     1.000000    14.500000   \n",
       "25%    76171.750000    24.000000     1.000000     2.000000    22.800000   \n",
       "50%    78749.000000    41.000000     2.000000     2.000000    26.800000   \n",
       "75%    81213.500000    58.000000     2.000000     2.000000    31.200000   \n",
       "max    83727.000000    80.000000     2.000000     7.000000    70.100000   \n",
       "\n",
       "            LBXGLU       DIQ010       LBXGLT        LBXIN  \n",
       "count  2278.000000  2278.000000  2278.000000  2278.000000  \n",
       "mean     99.553117     2.016242   114.978929    11.834794  \n",
       "std      17.889834     0.185556    47.061239     9.718812  \n",
       "min      63.000000     1.000000    40.000000     0.140000  \n",
       "25%      91.000000     2.000000    87.000000     5.860000  \n",
       "50%      97.000000     2.000000   105.000000     9.040000  \n",
       "75%     104.000000     2.000000   130.000000    14.440000  \n",
       "max     405.000000     3.000000   604.000000   102.290000  "
      ]
     },
     "execution_count": 13,
     "metadata": {},
     "output_type": "execute_result"
    }
   ],
   "source": [
    "df.describe()"
   ]
  },
  {
   "cell_type": "code",
   "execution_count": 18,
   "id": "944c7513",
   "metadata": {},
   "outputs": [
    {
     "data": {
      "text/html": [
       "<div>\n",
       "<style scoped>\n",
       "    .dataframe tbody tr th:only-of-type {\n",
       "        vertical-align: middle;\n",
       "    }\n",
       "\n",
       "    .dataframe tbody tr th {\n",
       "        vertical-align: top;\n",
       "    }\n",
       "\n",
       "    .dataframe thead th {\n",
       "        text-align: right;\n",
       "    }\n",
       "</style>\n",
       "<table border=\"1\" class=\"dataframe\">\n",
       "  <thead>\n",
       "    <tr style=\"text-align: right;\">\n",
       "      <th></th>\n",
       "      <th>age_group</th>\n",
       "    </tr>\n",
       "  </thead>\n",
       "  <tbody>\n",
       "    <tr>\n",
       "      <th>count</th>\n",
       "      <td>2278</td>\n",
       "    </tr>\n",
       "    <tr>\n",
       "      <th>unique</th>\n",
       "      <td>2</td>\n",
       "    </tr>\n",
       "    <tr>\n",
       "      <th>top</th>\n",
       "      <td>Adult</td>\n",
       "    </tr>\n",
       "    <tr>\n",
       "      <th>freq</th>\n",
       "      <td>1914</td>\n",
       "    </tr>\n",
       "  </tbody>\n",
       "</table>\n",
       "</div>"
      ],
      "text/plain": [
       "       age_group\n",
       "count       2278\n",
       "unique         2\n",
       "top        Adult\n",
       "freq        1914"
      ]
     },
     "execution_count": 18,
     "metadata": {},
     "output_type": "execute_result"
    }
   ],
   "source": [
    "df.describe(include = 'object')"
   ]
  },
  {
   "cell_type": "code",
   "execution_count": 14,
   "id": "262008e9",
   "metadata": {},
   "outputs": [
    {
     "data": {
      "text/plain": [
       "SEQN         0\n",
       "age_group    0\n",
       "RIDAGEYR     0\n",
       "RIAGENDR     0\n",
       "PAQ605       0\n",
       "BMXBMI       0\n",
       "LBXGLU       0\n",
       "DIQ010       0\n",
       "LBXGLT       0\n",
       "LBXIN        0\n",
       "dtype: int64"
      ]
     },
     "execution_count": 14,
     "metadata": {},
     "output_type": "execute_result"
    }
   ],
   "source": [
    "df.isnull().sum()"
   ]
  },
  {
   "cell_type": "code",
   "execution_count": 16,
   "id": "da0624c2",
   "metadata": {},
   "outputs": [
    {
     "data": {
      "text/plain": [
       "array(['Adult', 'Senior'], dtype=object)"
      ]
     },
     "execution_count": 16,
     "metadata": {},
     "output_type": "execute_result"
    }
   ],
   "source": [
    "df['age_group'].unique()"
   ]
  },
  {
   "cell_type": "markdown",
   "id": "73a21c64",
   "metadata": {},
   "source": [
    "After loading the csv file into a data frame called df using the read_csv method in pandas library, to give us an insight into df, some methods in the pandas library to peform specific funtions.\n",
    "### what (.head and .tail) mean\n",
    "'df.head()' this code was impelemented to display the first few rows of the df dataframe. By defualt, the '.head()' method will display first 5 rows using indexing of the entire features in the dataframe. The 'df.tail()' also by defualt returns the last 5 rows of the entire dataframe.  \n",
    "### .shape meaning \n",
    "'df.shape', this code was implemented to be able to get the number of rows/observations and features in df dataframe. According to result, we have 2278 observations and 10 features in the df dataframe. \n",
    "### .info meaning\n",
    "In other to be able to undetand the datatypes of our individual variable, we need the '.info' method from pandas library. 'df.info' means calling the info method from pandas and passing df as an argument, the output shows us we have 1 object and 9 floats.\n",
    "### .isnull().sum()\n",
    "This method from pandas is used to check for missing_values in the dataset and the .sum argument, ask to return only the sum of all the missing_values in each variables. Result shows that there are no missing values in the the df dataframe.\n",
    "\n",
    "### .dtypes meaning\n",
    "To futher understand the datatypes of the features I have in the df dataframe, I used '.dtypes' method from the pandas library to get the datatype of each specific feature, and as shown above, results suggest that the 'age_group' is the only column in object form, and the remaining 9 columns are floats. \n",
    "### Object meaning\n",
    "***df['age_group'].unique()***\n",
    "Object may mean that the age_group column have some string values in it's observation, it can also mean that all the observations in 'age_group' column are string values. Therefore in other to check the case is in df dtaframe, i used 'df['age_group'].unique()' code to get the unique values in the 'age_group' variable. Result of theis operation show me the age_group is a categorical data, hence the object datatype. \n",
    "\n",
    "### . describe meaning\n",
    "In order to statistically explore the numerical varibles in df, I used the '.describe()' method from the pandas library. This give a descriptive statistical analysis of df. The importance of this operatation is to see the pattern the observations in the numerical variable is distributed on the distribution curve. This method however only by default gives the statistical analysis of numerical data. This is why the result only is only for 9 variables instead of 10. \n",
    "\n",
    "In other to explore categorical data in 'age_group' column, I used 'df.describe(include = 'object')' code syntax. This enable us to explore 'age_group' column, result of this operation shouw Adult category have the highest frequency in the 'age_group' column.  \n",
    "\n",
    "### Result of numerical statistical discription: \n",
    "1 count: This is the number of observation in each feauture, result shows we have 2278 obsevations in all 9 numercal.\n",
    "2 means: This is the average of all the obsevations in the feuture.\n",
    "3 Std: This means standard deviation which is a the variation between the observations in each feature.\n",
    "4 min & max: This is the minimum and maximum observations in each feature respectively' \n",
    "5. (25 &75)%: This are the 1st and 3rd interquatile range respectively.\n",
    "6. 50%: Is the median and mode of the observation. "
   ]
  },
  {
   "cell_type": "code",
   "execution_count": 19,
   "id": "eaa3a3ea",
   "metadata": {},
   "outputs": [
    {
     "data": {
      "text/plain": [
       "array([61., 26., 16., 32., 38., 50., 14., 57., 75., 43., 54., 36., 80.,\n",
       "       71., 67., 70., 25., 24., 30., 44., 12., 58., 77., 29., 53., 46.,\n",
       "       48., 56., 15., 31., 13., 35., 21., 39., 62., 59., 63., 34., 72.,\n",
       "       64., 65., 47., 66., 51., 27., 37., 41., 42., 49., 20., 40., 22.,\n",
       "       17., 60., 28., 79., 52., 23., 19., 18., 68., 33., 45., 74., 78.,\n",
       "       55., 73., 69., 76.])"
      ]
     },
     "execution_count": 19,
     "metadata": {},
     "output_type": "execute_result"
    }
   ],
   "source": [
    "df['RIDAGEYR'].unique()"
   ]
  },
  {
   "cell_type": "code",
   "execution_count": 20,
   "id": "619989ec",
   "metadata": {},
   "outputs": [
    {
     "data": {
      "text/plain": [
       "array([2., 1.])"
      ]
     },
     "execution_count": 20,
     "metadata": {},
     "output_type": "execute_result"
    }
   ],
   "source": [
    "df['RIAGENDR'].unique()"
   ]
  },
  {
   "cell_type": "code",
   "execution_count": 21,
   "id": "5fa77c0c",
   "metadata": {},
   "outputs": [
    {
     "data": {
      "text/plain": [
       "array([2., 1., 7.])"
      ]
     },
     "execution_count": 21,
     "metadata": {},
     "output_type": "execute_result"
    }
   ],
   "source": [
    "df['PAQ605'].unique()"
   ]
  },
  {
   "cell_type": "code",
   "execution_count": 22,
   "id": "c02fe41f",
   "metadata": {},
   "outputs": [
    {
     "data": {
      "text/plain": [
       "array([35.7, 20.3, 23.2, 28.9, 35.9, 23.6, 38.7, 38.3, 38.9, 32.7, 27.3,\n",
       "       24.6, 30.5, 30.3, 22.1, 37.8, 28. , 46.1, 21. , 33. , 29.1, 32.3,\n",
       "       37.6, 36.4, 18. , 33.6, 21.4, 18.9, 26.4, 26.5, 19.2, 36.2, 22.5,\n",
       "       27.5, 25.6, 37.5, 39.7, 21.1, 19. , 23.4, 20.6, 18.1, 30.2, 24.9,\n",
       "       23. , 49.9, 32.2, 27.8, 26.3, 25. , 28.6, 19.7, 22.6, 41.1, 19.5,\n",
       "       50.9, 28.1, 30.7, 30.8, 42.1, 21.5, 26.6, 22.2, 29.4, 32.4, 30.9,\n",
       "       32. , 29.7, 24.2, 22.4, 26.8, 39.2, 31.9, 31.2, 25.4, 24.5, 18.4,\n",
       "       23.5, 26.2, 39. , 35. , 35.6, 42.7, 23.7, 23.9, 29.9, 47.2, 34.2,\n",
       "       40.7, 24.3, 37. , 28.7, 36.1, 26.9, 14.5, 29.5, 21.3, 21.9, 49.2,\n",
       "       30.6, 33.3, 31.6, 19.8, 31.8, 16.8, 28.2, 45.1, 31. , 27.6, 30.4,\n",
       "       39.8, 47.7, 22.7, 29.6, 33.9, 21.8, 24.4, 34.7, 37.1, 20.9, 44.9,\n",
       "       26.1, 28.3, 47.8, 27.9, 31.4, 43.1, 33.2, 28.5, 21.7, 38.5, 48.6,\n",
       "       25.8, 27.2, 29. , 15.9, 43.2, 36.8, 25.1, 25.2, 24. , 51.3, 30. ,\n",
       "       34. , 43.3, 32.6, 21.6, 18.6, 44.1, 32.5, 44.6, 31.5, 20.8, 26.7,\n",
       "       40. , 29.2, 29.3, 20.5, 15.7, 33.8, 41. , 33.4, 32.8, 27. , 33.1,\n",
       "       34.6, 34.8, 18.2, 45.7, 38.8, 17.1, 20. , 27.7, 29.8, 32.1, 17.9,\n",
       "       31.3, 68.6, 35.1, 42.2, 31.1, 27.1, 27.4, 19.1, 54. , 35.8, 50.2,\n",
       "       17.3, 20.7, 37.2, 19.6, 22.8, 32.9, 23.8, 34.3, 23.3, 14.6, 24.8,\n",
       "       24.7, 33.7, 28.4, 46.4, 42.4, 25.5, 19.3, 48.3, 17.6, 37.4, 36. ,\n",
       "       35.5, 43.6, 34.5, 24.1, 50.7, 21.2, 16.5, 39.9, 41.4, 20.4, 33.5,\n",
       "       22. , 36.5, 35.3, 16.9, 25.7, 41.5, 42. , 20.1, 55.6, 20.2, 54.9,\n",
       "       36.7, 25.3, 37.7, 25.9, 22.3, 50.5, 26. , 40.1, 47.5, 50.4, 19.9,\n",
       "       17.7, 35.4, 18.8, 34.1, 23.1, 17.5, 50.8, 22.9, 17.8, 45.3, 43.8,\n",
       "       38.4, 39.4, 17.2, 17.4, 30.1, 28.8, 16.1, 70.1, 63. , 41.3, 40.4,\n",
       "       44. , 44.8, 40.6, 15.4, 18.5, 43.4, 44.4, 42.3, 18.3, 56.7, 40.2,\n",
       "       39.3, 34.4, 39.5, 37.3, 50.3, 50.6, 41.9, 31.7, 48.2, 49.3, 47.1,\n",
       "       48.4, 57.9, 46.8, 45.9, 36.3, 38. , 38.2, 47.3, 41.8, 40.8, 56.9,\n",
       "       48.7, 17. , 44.2, 41.2, 45.5, 36.9, 43.7, 38.6, 46.3, 42.9, 47.6,\n",
       "       15.3, 36.6, 58.7, 58.4, 60.9, 39.6, 54.2, 51.9, 41.7, 18.7, 52.6,\n",
       "       51.1, 52.2, 37.9, 43.5, 51.4, 40.5, 42.8, 46.7, 19.4, 16.7, 52. ,\n",
       "       49. , 67.5, 56.3, 53. , 16.2, 34.9, 16.6, 50. , 35.2, 48. ])"
      ]
     },
     "execution_count": 22,
     "metadata": {},
     "output_type": "execute_result"
    }
   ],
   "source": [
    "df['BMXBMI'].unique()"
   ]
  },
  {
   "cell_type": "code",
   "execution_count": 23,
   "id": "216a3318",
   "metadata": {},
   "outputs": [
    {
     "data": {
      "text/plain": [
       "array([110.,  89., 104., 103.,  94., 107.,  90.,  98.,  85., 100., 102.,\n",
       "       133., 114.,  96., 139.,  86., 108.,  99., 105.,  87.,  95.,  88.,\n",
       "       111.,  93.,  83.,  69., 112., 129.,  79., 119., 120.,  92., 118.,\n",
       "       115., 101.,  81., 106., 142., 125., 109.,  91.,  97.,  84.,  82.,\n",
       "        73.,  80., 123.,  72., 159., 117., 124., 297., 208., 122., 127.,\n",
       "       116.,  74., 113.,  75., 135.,  77., 175., 156., 138., 131., 121.,\n",
       "       250., 134., 128.,  78., 126., 137., 166., 257., 140., 136., 275.,\n",
       "       150., 210., 130., 223., 195., 147., 405., 183.,  70.,  63.,  68.,\n",
       "        66., 149., 179., 368., 188., 220.,  76.,  67., 155., 160., 132.,\n",
       "       158., 333.])"
      ]
     },
     "execution_count": 23,
     "metadata": {},
     "output_type": "execute_result"
    }
   ],
   "source": [
    "df['LBXGLU'].unique()"
   ]
  },
  {
   "cell_type": "code",
   "execution_count": 24,
   "id": "8d7dbc2f",
   "metadata": {},
   "outputs": [
    {
     "data": {
      "text/plain": [
       "array([2., 1., 3.])"
      ]
     },
     "execution_count": 24,
     "metadata": {},
     "output_type": "execute_result"
    }
   ],
   "source": [
    "df['DIQ010'].unique()"
   ]
  },
  {
   "cell_type": "code",
   "execution_count": 25,
   "id": "8c4eb012",
   "metadata": {},
   "outputs": [
    {
     "data": {
      "text/plain": [
       "array([150.,  80.,  68.,  84.,  81., 100., 202., 164., 113.,  95.,  91.,\n",
       "        97., 124., 295., 120.,  82., 154.,  77., 160.,  72.,  76.,  83.,\n",
       "       158.,  78.,  67., 142., 145., 184.,  79., 171.,  93., 106., 122.,\n",
       "       170.,  86., 185.,  74.,  85.,  98.,  96., 138., 121.,  88., 109.,\n",
       "       155., 203., 136.,  55., 134., 159., 192., 108.,  90., 103., 117.,\n",
       "       137., 123.,  89., 215., 143., 101., 147., 110.,  92., 178.,  64.,\n",
       "       119., 201., 152.,  71., 176.,  94., 193., 131.,  65., 104.,  62.,\n",
       "       130., 151., 249.,  44., 107.,  99., 141., 175., 320., 139., 132.,\n",
       "        87., 126., 148., 102.,  63.,  69.,  51., 112.,  58., 225., 116.,\n",
       "       161., 473., 129., 315., 140., 105., 111.,  75., 135., 173., 252.,\n",
       "       114., 169., 128.,  73.,  66., 163., 115.,  60., 219., 149., 181.,\n",
       "        41.,  47., 118., 162., 125., 127., 209.,  70.,  46., 179., 236.,\n",
       "       190., 146., 188., 182., 177., 199., 157., 180., 316., 311.,  57.,\n",
       "       233., 207., 168., 156.,  52., 226., 205., 200., 234., 187., 196.,\n",
       "       204., 352., 211., 189., 133.,  49., 153., 250., 195., 166.,  48.,\n",
       "       144., 294., 197., 411.,  59., 308.,  42., 186., 198., 167., 267.,\n",
       "       210., 174., 228., 427., 214.,  54.,  45., 274., 266., 194.,  53.,\n",
       "       280., 459., 265., 216.,  56., 183., 256., 242., 241., 222., 604.,\n",
       "       165., 318.,  43., 218., 296., 172., 245.,  61., 224., 284.,  40.,\n",
       "       248., 346., 304., 312., 503., 221., 395., 217.,  50., 206., 235.,\n",
       "       279., 240., 332., 220., 213., 288., 243., 229., 287., 231., 510.,\n",
       "       208.])"
      ]
     },
     "execution_count": 25,
     "metadata": {},
     "output_type": "execute_result"
    }
   ],
   "source": [
    "df['LBXGLT'].unique()"
   ]
  },
  {
   "cell_type": "code",
   "execution_count": 27,
   "id": "03d545a7",
   "metadata": {},
   "outputs": [
    {
     "data": {
      "text/plain": [
       "array([14.91,  3.85,  6.14, ..., 13.91, 21.41,  3.76])"
      ]
     },
     "execution_count": 27,
     "metadata": {},
     "output_type": "execute_result"
    }
   ],
   "source": [
    "df['LBXIN'].unique()"
   ]
  },
  {
   "cell_type": "code",
   "execution_count": 28,
   "id": "5241231c",
   "metadata": {},
   "outputs": [
    {
     "data": {
      "text/plain": [
       "array([73564., 73568., 73576., ..., 83713., 83718., 83727.])"
      ]
     },
     "execution_count": 28,
     "metadata": {},
     "output_type": "execute_result"
    }
   ],
   "source": [
    "df['SEQN'].unique()"
   ]
  },
  {
   "cell_type": "code",
   "execution_count": null,
   "id": "c018ce37",
   "metadata": {},
   "outputs": [],
   "source": []
  }
 ],
 "metadata": {
  "kernelspec": {
   "display_name": "Python 3 (ipykernel)",
   "language": "python",
   "name": "python3"
  },
  "language_info": {
   "codemirror_mode": {
    "name": "ipython",
    "version": 3
   },
   "file_extension": ".py",
   "mimetype": "text/x-python",
   "name": "python",
   "nbconvert_exporter": "python",
   "pygments_lexer": "ipython3",
   "version": "3.11.4"
  }
 },
 "nbformat": 4,
 "nbformat_minor": 5
}
